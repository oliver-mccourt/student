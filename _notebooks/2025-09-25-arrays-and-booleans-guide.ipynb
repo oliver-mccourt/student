{
 "cells": [
  {
   "cell_type": "markdown",
   "id": "b9747443",
   "metadata": {},
   "source": [
    "# Arrays and Booleans: A Beginner's Guide\n",
    "\n",
    "Have you ever wanted to make a list of your favorite movies or keep track of whether you've finished your homework? In programming, we use **arrays** and **booleans** to do exactly that!\n",
    "\n",
    "This guide will cover:\n",
    "- **Arrays**: Lists that can hold multiple items\n",
    "- **Booleans**: Variables that are either true or false\n",
    "- **How to use them** in real programming examples"
   ]
  },
  {
   "cell_type": "markdown",
   "id": "d7a3407e",
   "metadata": {},
   "source": [
    "## What Are Arrays?\n",
    "\n",
    "**Arrays** are almost like a container that holds multiple items in order. They're data structures that allow you to store a list of variables or a collection of elements.\n",
    "\n",
    "### Why Do We Need Arrays?\n",
    "\n",
    "Without arrays, if you wanted to store your 5 favorite movies, you'd need to create 5 separate variables:\n",
    "- movie1 = \"Coraline\"\n",
    "- movie2 = \"Beetlejuice\" \n",
    "- movie3 = \"Corpse Bride\"\n",
    "- movie4 = \"Nightmare Before Christmas\"\n",
    "- movie5 = \"Edward Scissor Hands\"\n",
    "\n",
    "This gets messy quickly. Arrays let us store all these movies in one organized list:"
   ]
  },
  {
   "cell_type": "code",
   "execution_count": null,
   "id": "99fac8a9",
   "metadata": {},
   "outputs": [],
   "source": [
    "# Creating an array of favorite movies\n",
    "movies = [\"Coraline\", \"Beetlejuice\", \"Corpse Bride\", \"Nightmare Before Christmas\", \"Edward Scissor Hands\"]\n",
    "print(\"My favorite movies:\", movies)"
   ]
  },
  {
   "cell_type": "markdown",
   "id": "bead8654",
   "metadata": {},
   "source": [
    "### How Arrays Work\n",
    "\n",
    "Arrays are almost like a street with houses. Each house has an address (an **index**), and someone lives inside each house. And make sure to remember, **programmers start counting addresses from 0, not 1.**"
   ]
  },
  {
   "cell_type": "code",
   "execution_count": null,
   "id": "9f127fbb",
   "metadata": {},
   "outputs": [],
   "source": [
    "# Array indexing example\n",
    "pets = [\"dog\", \"cat\", \"fish\"]\n",
    "#       0     1      2\n",
    "\n",
    "print(\"First pet (index 0):\", pets[0])\n",
    "print(\"Second pet (index 1):\", pets[1])\n",
    "print(\"Third pet (index 2):\", pets[2])"
   ]
  },
  {
   "cell_type": "markdown",
   "id": "ba2f8843",
   "metadata": {},
   "source": [
    "**Why Start at 0?** Computers typically think in terms of \"how many steps from the beginning?\" Since the first item/variable is 0 steps away, the second is 1 step away, etc.\n",
    "\n",
    "### What Can Arrays Do?\n",
    "\n",
    "Arrays are like super-powered lists that can:\n",
    "\n",
    "1. **Grow and Shrink** - Unlike a physical list written on paper, arrays can get bigger or smaller as needed\n",
    "2. **Find Things Quickly** - Arrays can search through hundreds of items in milliseconds\n",
    "3. **Keep Things Organized** - Arrays maintain order\n",
    "4. **Work with Other Parts of Your Program** - Arrays can be passed around to different parts of your program"
   ]
  },
  {
   "cell_type": "code",
   "execution_count": null,
   "id": "300866bc",
   "metadata": {},
   "outputs": [],
   "source": [
    "# Simple array example\n",
    "favorite_colors = [\"blue\", \"green\", \"purple\"]\n",
    "print(\"I have\", len(favorite_colors), \"favorite colors\")\n",
    "print(\"My colors are:\", favorite_colors)"
   ]
  },
  {
   "cell_type": "markdown",
   "id": "24aa3ded",
   "metadata": {},
   "source": [
    "### Try It Yourself: Working with Arrays\n",
    "\n",
    "Let's practice some common array operations:"
   ]
  },
  {
   "cell_type": "code",
   "execution_count": null,
   "id": "4ba15b0a",
   "metadata": {},
   "outputs": [],
   "source": [
    "# Create your own array of favorite foods\n",
    "favorite_foods = [\"pizza\", \"ice cream\", \"tacos\"]\n",
    "print(\"Original list:\", favorite_foods)\n",
    "\n",
    "# Add a new food\n",
    "favorite_foods.append(\"cookies\")\n",
    "print(\"After adding cookies:\", favorite_foods)\n",
    "\n",
    "# Check if something is in the array\n",
    "if \"pizza\" in favorite_foods:\n",
    "    print(\"Pizza is in my favorites!\")\n",
    "\n",
    "# Get the length of the array\n",
    "print(\"I have\", len(favorite_foods), \"favorite foods\")"
   ]
  },
  {
   "cell_type": "markdown",
   "id": "41e26ec6",
   "metadata": {},
   "source": [
    "## What Are Booleans?\n",
    "\n",
    "A **boolean** is the simplest type of data in programming. It can only be one of two values: `True` or `False`. It's basically answering a yes/no question - there's no maybe or vague answers. Always yes or no/true or false.\n",
    "\n",
    "### Why Are Booleans Important?\n",
    "\n",
    "Booleans are the foundation of how computers make decisions. Every time your computer decides what to do next, it's using boolean logic. Here are some everyday examples:\n",
    "\n",
    "- **Is the password correct?** True or False\n",
    "- **Is the user logged in?** True or False  \n",
    "- **Is there enough money in the account?** True or False\n",
    "- **Is the door locked?** True or False\n",
    "- **Has the homework been submitted?** True or False"
   ]
  },
  {
   "cell_type": "code",
   "execution_count": null,
   "id": "d3550dc7",
   "metadata": {},
   "outputs": [],
   "source": [
    "# Boolean examples\n",
    "homework_done = True\n",
    "raining = False\n",
    "weekend = True\n",
    "\n",
    "print(\"Homework done:\", homework_done)\n",
    "print(\"Is it raining:\", raining)\n",
    "print(\"Is it weekend:\", weekend)"
   ]
  },
  {
   "cell_type": "markdown",
   "id": "4e9bfcf2",
   "metadata": {},
   "source": [
    "### The Three Boolean Operations\n",
    "\n",
    "Just like math has +, -, ×, and ÷, boolean logic has three main operations:\n",
    "\n",
    "1. **AND** - Both things must be true\n",
    "2. **OR** - At least one thing must be true  \n",
    "3. **NOT** - The opposite"
   ]
  },
  {
   "cell_type": "code",
   "execution_count": null,
   "id": "78faeadd",
   "metadata": {},
   "outputs": [],
   "source": [
    "# Boolean operations example\n",
    "sunny = True\n",
    "warm = True\n",
    "\n",
    "# AND operation - both must be true\n",
    "nice_day = sunny and warm\n",
    "print(\"Is it a nice day?\", nice_day)\n",
    "\n",
    "# OR operation - at least one must be true\n",
    "okay_day = sunny or warm\n",
    "print(\"Is it at least an okay day?\", okay_day)\n",
    "\n",
    "# NOT operation - the opposite\n",
    "bad_weather = not sunny\n",
    "print(\"Is the weather bad?\", bad_weather)"
   ]
  },
  {
   "cell_type": "markdown",
   "id": "1243a837",
   "metadata": {},
   "source": [
    "### Try It Yourself: Boolean Logic\n",
    "\n",
    "Let's practice making decisions with booleans:"
   ]
  },
  {
   "cell_type": "code",
   "execution_count": null,
   "id": "8b2d3af1",
   "metadata": {},
   "outputs": [],
   "source": [
    "# Decision making with booleans\n",
    "have_money = True\n",
    "store_open = False\n",
    "\n",
    "can_buy_something = have_money and store_open\n",
    "print(\"Can I buy something?\", can_buy_something)\n",
    "\n",
    "if can_buy_something:\n",
    "    print(\"Let's go shopping!\")\n",
    "else:\n",
    "    print(\"Can't shop right now.\")\n",
    "\n",
    "# Try changing the values above and run this cell again!"
   ]
  },
  {
   "cell_type": "markdown",
   "id": "0a2b49ac",
   "metadata": {},
   "source": [
    "## Arrays and Booleans: A Powerful Team\n",
    "\n",
    "When you combine arrays and booleans, you can create programs that are both organized and smart!\n",
    "\n",
    "### Real-World Example: A Simple Homework Tracker\n",
    "\n",
    "Imagine you have 4 subjects and you want to track which homework is done:"
   ]
  },
  {
   "cell_type": "code",
   "execution_count": null,
   "id": "61884b5f",
   "metadata": {},
   "outputs": [],
   "source": [
    "# Homework tracker example\n",
    "subjects = [\"Math\", \"Science\", \"English\", \"History\"]\n",
    "completed = [True, False, True, False]\n",
    "\n",
    "print(\"Homework Status:\")\n",
    "for i in range(len(subjects)):\n",
    "    if completed[i]:\n",
    "        print(f\"✅ {subjects[i]} homework is done!\")\n",
    "    else:\n",
    "        print(f\"❌ {subjects[i]} homework not done\")\n",
    "\n",
    "# Count how many are completed\n",
    "completed_count = sum(completed)  # True counts as 1, False as 0\n",
    "print(f\"\\nCompleted {completed_count} out of {len(subjects)} assignments\")"
   ]
  },
  {
   "cell_type": "markdown",
   "id": "e1b5f54a",
   "metadata": {},
   "source": [
    "### Try It Yourself: Create Your Own Tracker\n",
    "\n",
    "Create a tracker for your daily activities:"
   ]
  },
  {
   "cell_type": "code",
   "execution_count": null,
   "id": "dad4c99d",
   "metadata": {},
   "outputs": [],
   "source": [
    "# Create your own activity tracker\n",
    "activities = [\"brush teeth\", \"eat breakfast\", \"exercise\", \"read\"]\n",
    "done = [True, True, False, True]  # Change these to match your day!\n",
    "\n",
    "print(\"Today's Activities:\")\n",
    "for i in range(len(activities)):\n",
    "    status = \"✅ Done\" if done[i] else \"❌ Not done\"\n",
    "    print(f\"{activities[i]}: {status}\")\n",
    "\n",
    "# Calculate progress\n",
    "total_done = sum(done)\n",
    "percentage = (total_done / len(activities)) * 100\n",
    "print(f\"\\nProgress: {total_done}/{len(activities)} ({percentage:.0f}%) complete\")"
   ]
  },
  {
   "cell_type": "markdown",
   "id": "28621cf7",
   "metadata": {},
   "source": [
    "## Where You'll See Arrays and Booleans\n",
    "\n",
    "Now that you understand these concepts, you'll start noticing them everywhere!\n",
    "\n",
    "### In Apps You Use Daily\n",
    "\n",
    "- **Instagram**: Your feed is an array of posts, and each post has boolean properties (liked/not liked, saved/not saved)\n",
    "- **Spotify**: Your playlists are arrays of songs, with booleans for (downloaded/not downloaded, liked/not liked)\n",
    "- **School Apps**: Your grades are in arrays, with booleans showing (submitted/not submitted, passed/not passed)\n",
    "\n",
    "### In Video Games\n",
    "\n",
    "- **Player Inventory**: An array of items you've collected\n",
    "- **Level Progress**: Booleans showing which levels you've completed\n",
    "- **Character Stats**: Arrays of numbers with boolean flags for special abilities"
   ]
  },
  {
   "cell_type": "code",
   "execution_count": null,
   "id": "4ce1aac4",
   "metadata": {},
   "outputs": [],
   "source": [
    "# Example: Simple game inventory system\n",
    "inventory = [\"sword\", \"shield\", \"potion\", \"key\"]\n",
    "has_magic = [False, False, True, False]  # Which items are magical\n",
    "\n",
    "print(\"Player Inventory:\")\n",
    "for i in range(len(inventory)):\n",
    "    magic_status = \"✨ (magical)\" if has_magic[i] else \"\"\n",
    "    print(f\"- {inventory[i]} {magic_status}\")\n",
    "\n",
    "# Check if player has key\n",
    "has_key = \"key\" in inventory\n",
    "print(f\"\\nCan open locked door: {has_key}\")"
   ]
  },
  {
   "cell_type": "markdown",
   "id": "983f5644",
   "metadata": {},
   "source": [
    "## The Big Picture\n",
    "\n",
    "🎉 **Congratulations!** You've just learned about two of the most important concepts in all of programming!\n",
    "\n",
    "### Why Arrays Matter\n",
    "Arrays are how computers organize information. Without them, every app would be chaos - imagine if your phone couldn't keep a list of your contacts, or if Netflix couldn't remember what shows exist. Arrays bring order to digital chaos.\n",
    "\n",
    "### Why Booleans Matter  \n",
    "Booleans are how computers make decisions. Every \"if this, then that\" moment in technology uses boolean logic. They're the reason your phone knows when to charge, your games know when you've won, and websites know when you're logged in.\n",
    "\n",
    "### The Programming Mindset\n",
    "\n",
    "Now that you understand arrays and booleans, you're thinking like a programmer! You can:\n",
    "- **Break down complex problems** into lists of information (arrays)\n",
    "- **Make decisions** based on true/false conditions (booleans)\n",
    "- **See how data and decisions work together** to create smart programs"
   ]
  },
  {
   "cell_type": "markdown",
   "id": "16441ca2",
   "metadata": {},
   "source": [
    "### Final Challenge: Build Your Own Program\n",
    "\n",
    "Use what you've learned to create a simple program. Here's a template to get you started:"
   ]
  },
  {
   "cell_type": "code",
   "execution_count": null,
   "id": "daf7a20b",
   "metadata": {},
   "outputs": [],
   "source": [
    "# Your turn! Create a program that combines arrays and booleans\n",
    "# Ideas: \n",
    "# - Track your favorite books and which ones you've read\n",
    "# - Make a simple quiz game\n",
    "# - Create a to-do list with completion status\n",
    "\n",
    "# Example: Book tracker\n",
    "books = [\"Harry Potter\", \"Percy Jackson\", \"Hunger Games\", \"Maze Runner\"]\n",
    "read = [True, True, False, False]\n",
    "\n",
    "print(\"My Reading List:\")\n",
    "for i in range(len(books)):\n",
    "    status = \"📖 Read\" if read[i] else \"📚 To read\"\n",
    "    print(f\"{books[i]}: {status}\")\n",
    "\n",
    "books_read = sum(read)\n",
    "print(f\"\\nBooks read: {books_read}/{len(books)}\")\n",
    "\n",
    "# Now try creating your own program below!\n",
    "# Remember: arrays store lists of things, booleans help make decisions"
   ]
  },
  {
   "cell_type": "markdown",
   "id": "b8c73b60",
   "metadata": {},
   "source": [
    "## What's Next?\n",
    "\n",
    "Every programming language has arrays and booleans because they're fundamental to how computers work. Whether you learn Python, JavaScript, Java, or any other language, these concepts will be your foundation.\n",
    "\n",
    "You're now ready to start seeing the digital world differently - as a place where organized data meets smart decisions to create the technology that surrounds us every day! 🚀\n",
    "\n",
    "### Remember\n",
    "Programming isn't just about writing code - it's about thinking logically, organizing information, and making smart decisions. Arrays and booleans are your first tools for doing exactly that!"
   ]
  }
 ],
 "metadata": {
  "language_info": {
   "name": "python"
  }
 },
 "nbformat": 4,
 "nbformat_minor": 5
}
