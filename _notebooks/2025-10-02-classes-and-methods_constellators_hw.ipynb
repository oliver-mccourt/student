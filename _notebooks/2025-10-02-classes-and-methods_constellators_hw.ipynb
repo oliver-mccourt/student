{
 "cells": [
  {
   "cell_type": "markdown",
   "id": "3ddc81e9",
   "metadata": {},
   "source": [
    "---\n",
    "layout: post\n",
    "toc: True\n",
    "breadcrumb: True\n",
    "title: CSSE Classes and Methods HW\n",
    "description: These are the homework problems and popcorn hacks.\n",
    "permalink: /csse/fall_2025/javascript/classes-and-methods/homework\n",
    "author: Adya S, Niharika B, Salma Z, Anika S, Sophie H\n",
    "---"
   ]
  },
  {
   "cell_type": "markdown",
   "id": "04a627a9",
   "metadata": {},
   "source": [
    "## **Classes and Methods**"
   ]
  },
  {
   "cell_type": "markdown",
   "id": "a88704ec",
   "metadata": {},
   "source": [
    "### <u>Popcorn Hack 1 - Dice Roller</u>\n",
    "\n",
    "\n",
    "Instructions:\n",
    "Finish the code in the cell below (fill in underlines and add lines of code) so it works as described:\n",
    "\n",
    "- Create a class called Dice that:\n",
    "    - Has a property for the number of sides.\n",
    "    - Has a method roll() that returns a random number between 1 and the number of sides.\n",
    "\n",
    "\n",
    "At the bottom, test your game by making a DiceGame object and calling roll() a few times.\n",
    "\n",
    "The code is currently NOT functional. When you have completed this popcorn hack, the code should work. Have fun!"
   ]
  },
  {
   "cell_type": "code",
   "execution_count": 7,
   "id": "83cfb441",
   "metadata": {
    "vscode": {
     "languageId": "javascript"
    }
   },
   "outputs": [
    {
     "data": {
      "application/javascript": "\nclass dice { // What should the name of the class be?\n  constructor(sides) { // Constructor to initialize the number of sides\n    this.sides = sides; // Number of sides on the dice\n  }\n\n  roll() { // What should the name of the method be?\n    return Math.floor(Math.random() * this.sides) + 1; // Rolls the dice and returns a number between 1 and the number of sides\n  }\n\n\n// Test the Dice class:\n// INSTANTIATE A NEW DICE OBJECT WITH A NUMBER OF SIDES\n\n// CALL THE ROLL METHOD A FEW TIMES AND PRINT THE RESULTS\n",
      "text/plain": [
       "<IPython.core.display.Javascript object>"
      ]
     },
     "metadata": {},
     "output_type": "display_data"
    }
   ],
   "source": [
    "%%javascript\n",
    "\n",
    "class dice { // What should the name of the class be?\n",
    "  constructor(sides) { // Constructor to initialize the number of sides\n",
    "    this.sides = sides; // Number of sides on the dice\n",
    "  }\n",
    "\n",
    "  // ____() { // What should the name of the method be?\n",
    "    return Math.floor(Math.random() * this.sides) + 1; // Rolls the dice and returns a number between 1 and the number of sides\n",
    "  }\n",
    "\n",
    "\n",
    "// Test the Dice class:\n",
    "// INSTANTIATE A NEW DICE OBJECT WITH A NUMBER OF SIDES\n",
    "\n",
    "// CALL THE ROLL METHOD A FEW TIMES AND PRINT THE RESULTS"
   ]
  },
  {
   "cell_type": "markdown",
   "id": "eb525919",
   "metadata": {},
   "source": [
    "### <u>Popcorn Hack 2 - Pet Simulator</u>\n",
    "\n",
    "\n",
    "This hack is a bit more complicated than the first. Points will be awarded based on effort and completion.\n",
    "\n",
    "\n",
    "Analyze the block of code below. Then, complete the following instructions:\n",
    "\n",
    "\n",
    "1) Create a simple Pet class by filling in the _________.\n",
    "\n",
    "2) Add at least 2 properties (like hunger, energy, or happiness). EX: Stats decrease over time.\n",
    "\n",
    "3) Add at least two functioning methods (such as feed, play, or sleep) EX: Buttons increase stats.\n",
    "\n",
    "4) Give your pet a name and print their current properties.\n",
    "\n",
    "5) Bonus: Add a \"status\" method to print all your pet's stats.\n",
    "\n",
    "\n",
    "The code is currently NOT functional. When you have completed this popcorn hack, the code should work. Have fun!\n",
    "\n"
   ]
  },
  {
   "cell_type": "code",
   "execution_count": 11,
   "id": "740b316c",
   "metadata": {
    "vscode": {
     "languageId": "javascript"
    }
   },
   "outputs": [
    {
     "data": {
      "application/javascript": "\nclass pet {\n  constructor(name, energy, hunger, happiness, health) {\n    this.name = \"Osbert\";   // you can change these values\n    this.energy = 10;\n    this.hunger = 10;\n    this.happiness = 10;\n    this.health = 10;\n  }\n\n  feed() {\n    this.energy -= 2;\n    this.hunger += 4;\n    this.happiness += 2;\n    this.health += 1;\n  }\n  play() {\n    this.energy -= 3;\n    this.hunger -= 2;\n    this.happiness += 4;\n    this.health -= 3;\n  }\n  bathe() {\n    this.energy -= 2;\n    this.hunger -= 1;\n    this.happiness += 3;\n    this.health += 1;\n  }\n  pet() {\n    this.energy += 4;\n    this.hunger -= 1;\n    this.happiness += 4;\n  }\n  giveMedicine() {\n    this.energy -= 3;\n    this.hunger -= 2;\n    this.happiness -= 4;\n    this.health += 5;\n  }\n\n  // TODO: Write at least 2 methods here\n  //Example:\n  // feed()\n  //____________________________ // allow user to feed pet (add button to call this method)\n  //____________________________ // increase energy, decrease hunger, increase happiness\n  //____________________________ // print that the pet has been fed to console\n  // play()\n  //____________________________ // allow user to play w/ pet by clicking a button to call this method\n  //____________________________ // decrease energy, increase hunger, increase happiness\n  //____________________________ // print that the pet has been played with to console\n}\n\nconst myPet = new pet(\"Osbert\"); // give your pet a name\nconsole.log(myPet); // print the properties of your pet to console\noutput.innerText = \"Name: \" + myPet.name + \", Energy: \" + myPet.energy + \", Hunger: \" + myPet.hunger + \", Happiness: \" + myPet.happiness; + \", Health\" + myPet.health // print the properties of your pet\n\n// Test your methods below:\nmyPet.feed();\nmyPet.play();\nmyPet.bathe();\nmyPet.pet();\nmyPet.giveMedicine();\n",
      "text/plain": [
       "<IPython.core.display.Javascript object>"
      ]
     },
     "metadata": {},
     "output_type": "display_data"
    }
   ],
   "source": [
    "%%javascript\n",
    "\n",
    "class pet {\n",
    "  constructor(name, energy, hunger, happiness, health) {\n",
    "    this.name = \"Osbert\";   // you can change these values\n",
    "    this.energy = 10;\n",
    "    this.hunger = 10;\n",
    "    this.happiness = 10;\n",
    "    this.health = 10;\n",
    "  }\n",
    "\n",
    "  feed() {\n",
    "    this.energy -= 2;\n",
    "    this.hunger += 4;\n",
    "    this.happiness += 2;\n",
    "    this.health += 1;\n",
    "  }\n",
    "  play() {\n",
    "    this.energy -= 3;\n",
    "    this.hunger -= 2;\n",
    "    this.happiness += 4;\n",
    "    this.health -= 3;\n",
    "  }\n",
    "  bathe() {\n",
    "    this.energy -= 2;\n",
    "    this.hunger -= 1;\n",
    "    this.happiness += 3;\n",
    "    this.health += 1;\n",
    "  }\n",
    "  pet() {\n",
    "    this.energy += 4;\n",
    "    this.hunger -= 1;\n",
    "    this.happiness += 4;\n",
    "  }\n",
    "  giveMedicine() {\n",
    "    this.energy -= 3;\n",
    "    this.hunger -= 2;\n",
    "    this.happiness -= 4;\n",
    "    this.health += 5;\n",
    "  }\n",
    "\n",
    "  // TODO: Write at least 2 methods here\n",
    "  //Example:\n",
    "  // feed()\n",
    "  //____________________________ // allow user to feed pet (add button to call this method)\n",
    "  //____________________________ // increase energy, decrease hunger, increase happiness\n",
    "  //____________________________ // print that the pet has been fed to console\n",
    "  // play()\n",
    "  //____________________________ // allow user to play w/ pet by clicking a button to call this method\n",
    "  //____________________________ // decrease energy, increase hunger, increase happiness\n",
    "  //____________________________ // print that the pet has been played with to console\n",
    "}\n",
    "\n",
    "const myPet = new pet(\"Osbert\"); // give your pet a name\n",
    "console.log(myPet); // print the properties of your pet to console\n",
    "output.innerText = \"Name: \" + myPet.name + \", Energy: \" + myPet.energy + \", Hunger: \" + myPet.hunger + \", Happiness: \" + myPet.happiness; + \", Health\" + myPet.health // print the properties of your pet\n",
    "\n",
    "// Test your methods below:\n",
    "myPet.feed();\n",
    "myPet.play();\n",
    "myPet.bathe();\n",
    "myPet.pet();\n",
    "myPet.giveMedicine();"
   ]
  },
  {
   "cell_type": "code",
   "execution_count": 19,
   "id": "6401791b",
   "metadata": {
    "vscode": {
     "languageId": "javascript"
    }
   },
   "outputs": [
    {
     "data": {
      "text/html": [
       "<div id=\"output\"></div>\n"
      ],
      "text/plain": [
       "<IPython.core.display.HTML object>"
      ]
     },
     "metadata": {},
     "output_type": "display_data"
    }
   ],
   "source": [
    "%%html\n",
    "<div id=\"output\"></div>\n"
   ]
  },
  {
   "cell_type": "markdown",
   "id": "e7ae67bd",
   "metadata": {},
   "source": [
    "### <u>Homework</u>\n",
    "\n",
    "Complete the following questions in the next code block.\n",
    "\n",
    "1) Create a class Person with properties 'name' and 'age'. Print their properties.\n",
    "\n",
    "2) Add a method greet() to your Person class that prints a greeting using the person's name.\n",
    "\n",
    "3) Create a class Book with properties 'title', 'author', and 'pages'. Instantiate a book and print its properties.\n",
    "\n",
    "4) Add a method read(pages) to your Book class that increments a pagesRead property and prints a message.\n",
    "\n",
    "5) Add a method isLongBook() that returns true if pages > 300, otherwise false. Print the result for your book.\n",
    "\n",
    "6) Create a class Car with properties 'make', 'model', and 'fuel'. Add methods drive(distance) and refuel(amount). Print messages in each method.\n",
    "\n",
    "7) Add a static method info() to your Car class that prints 'Cars are vehicles.'\n",
    "\n",
    "8) Create a class ElectricCar that extends Car. Add a property 'battery' and a method charge(amount) that increases battery. Print battery level after charging.\n",
    "\n",
    "10) Create a routine that combines your objects: drive a Car, charge an ElectricCar, read pages from a Book, and call greet() on Person. Print outputs for each action.\n",
    "\n",
    "11) **Extra Credit:** Submit the original OOP Breakout Game Code (found on [OpenCS](https://github.com/Open-Coding-Society/pages/blob/main/hacks/breakout/breakout.md?plain=1)) after making the following edits:\n",
    "- Add another feature to the game: Add a method so that the ball must collide with some bricks twice for a brick to break completely.\n",
    "- Edit a method in the ball class to increase/decrease the speed of the ball: Please add a COMMENT on the game code that specifies which line you edited."
   ]
  },
  {
   "cell_type": "code",
   "execution_count": 22,
   "id": "52d29f28",
   "metadata": {
    "vscode": {
     "languageId": "javascript"
    }
   },
   "outputs": [
    {
     "data": {
      "application/javascript": "\nclass Person {\n  constructor(name, age) {\n    this.name = name;\n    this.age = age;\n  }\n\n    greet() {\n    console.log(\"Hello, my name is \" + this.name + \"!\" + \" I am \" + this.age + \" years old.\");\n    }\n\n    readBook(book, pages) {\n    book.read(pages);\n    console.log(this.name + \" read \" + pages + \" pages of \" + book.title + \".\");\n    }\n}\n\nclass Book {\n  constructor(title, author, pages) {\n    this.title = title;\n    this.author = author;\n    this.pages = pages;\n    this.pagesRead = 0; //staring at 0 pages read :3\n    this.name = \"Oliver\";\n  }\n\n    read(pages) {\n    this.pagesRead += pages;\n    console.log(\" I have read \" + this.pagesRead + \" pages. \");\n    }\n\n    isLongBook() {\n    if (this.pages > 300) {\n      console.log(this.name + \" is reading a long book called \" + this.title + \". It has \" + this.pages + \" pages. \");\n    }\n    else if (this.pages < 300) {\n      console.log(this.name + \" is reading a short book called \" + this.title + \". It has \" + this.pages + \" pages. \");\n    }\n  }\n}\n\nconst person1 = new Person(\"Oliver\", 15);\nconst book1 = new Book(\"The Poppy War\", \"R.F. Kuang\", 545);\n\n\nperson1.greet();\nbook1.isLongBook();\nperson1.readBook(book1, 50);\nperson1.readBook(book1, 100);\nperson1.readBook(book1, 200);\nconsole.log(\"total pages read: \" + book1.pagesRead);\n\nclass Car {\n    constructor(make, model, fuel) {\n        this.make = make;\n        this.model = model;\n        this.fuel = fuel;\n        console.log(\" New car: \" + this.make + \" \" + this.model + \" with \" + this.fuel + \" gallons of fuel. \");\n    }\n\n   drive(distance) {\n    this.fuel -= distance * 0.1;\n    console.log(\" Drove \" + distance + \" miles. Remaining fuel: \" + this.fuel + \" gallons.\");\n   }\n\n   refuel(amount) {\n    this.fuel += amount;\n    console.log(\" Refueled \" + amount + \" gallons. Total fuel: \" + this.fuel + \" gallons.\");\n   }\n\n   static info () {\n    console.log(\" Cars are vehicles. \");\n   }\n}\n\nclass ElectricCar {\n    constructor(make, model, battery) {\n        this.make = make;\n        this.model = model;\n        this.battery = battery;\n        console.log(\" New car: \" + this.make + \" \" + this.model + \" with \" + this.battery + \" % battery.\");\n    }\n\n    charge(amount) {\n        this.battery += amount;\n        console.log(\" Charged \" + amount + \" %. Total battery: \" + this.battery + \" %.\");\n    }\n}\n\nconst myCar = new Car(\"Toyota\", \"Camry\", 15);\nmyCar.drive(50);\n\nconst myElectricCar1 = new ElectricCar(\"Nissan\", \"Leaf\", 40);\nmyElectricCar1.charge(25);\n",
      "text/plain": [
       "<IPython.core.display.Javascript object>"
      ]
     },
     "metadata": {},
     "output_type": "display_data"
    }
   ],
   "source": [
    "%%javascript\n",
    "\n",
    "class Person {\n",
    "  constructor(name, age) {\n",
    "    this.name = name;\n",
    "    this.age = age;\n",
    "  }\n",
    "\n",
    "    greet() {\n",
    "    console.log(\"Hello, my name is \" + this.name + \"!\" + \" I am \" + this.age + \" years old.\");\n",
    "    }\n",
    "    \n",
    "    readBook(book, pages) {\n",
    "    book.read(pages);\n",
    "    console.log(this.name + \" read \" + pages + \" pages of \" + book.title + \".\");\n",
    "    }\n",
    "}\n",
    "\n",
    "class Book {\n",
    "  constructor(title, author, pages) {\n",
    "    this.title = title;\n",
    "    this.author = author;\n",
    "    this.pages = pages;\n",
    "    this.pagesRead = 0; //staring at 0 pages read :3\n",
    "    this.name = \"Oliver\";\n",
    "  }\n",
    "\n",
    "    read(pages) {\n",
    "    this.pagesRead += pages;\n",
    "    console.log(\" I have read \" + this.pagesRead + \" pages. \");\n",
    "    }\n",
    "\n",
    "    isLongBook() {\n",
    "    if (this.pages > 300) {\n",
    "      console.log(this.name + \" is reading a long book called \" + this.title + \". It has \" + this.pages + \" pages. \");\n",
    "    }\n",
    "    else if (this.pages < 300) {\n",
    "      console.log(this.name + \" is reading a short book called \" + this.title + \". It has \" + this.pages + \" pages. \");\n",
    "    }\n",
    "  }\n",
    "}\n",
    "\n",
    "const person1 = new Person(\"Oliver\", 15);\n",
    "const book1 = new Book(\"The Poppy War\", \"R.F. Kuang\", 545);\n",
    "\n",
    "\n",
    "person1.greet();\n",
    "book1.isLongBook();\n",
    "person1.readBook(book1, 50);\n",
    "person1.readBook(book1, 100);\n",
    "person1.readBook(book1, 200);\n",
    "console.log(\"total pages read: \" + book1.pagesRead);\n",
    "\n",
    "class Car {\n",
    "    constructor(make, model, fuel) {\n",
    "        this.make = make;\n",
    "        this.model = model;\n",
    "        this.fuel = fuel;\n",
    "        console.log(\" New car: \" + this.make + \" \" + this.model + \" with \" + this.fuel + \" gallons of fuel. \");\n",
    "    }\n",
    "\n",
    "   drive(distance) {\n",
    "    this.fuel -= distance * 0.1;\n",
    "    console.log(\" Drove \" + distance + \" miles. Remaining fuel: \" + this.fuel + \" gallons.\");\n",
    "   }\n",
    "\n",
    "   refuel(amount) {\n",
    "    this.fuel += amount;\n",
    "    console.log(\" Refueled \" + amount + \" gallons. Total fuel: \" + this.fuel + \" gallons.\");\n",
    "   }\n",
    "\n",
    "   static info () {\n",
    "    console.log(\" Cars are vehicles. \");\n",
    "   }\n",
    "}\n",
    "\n",
    "class ElectricCar {\n",
    "    constructor(make, model, battery) {\n",
    "        this.make = make;\n",
    "        this.model = model;\n",
    "        this.battery = battery;\n",
    "        console.log(\" New car: \" + this.make + \" \" + this.model + \" with \" + this.battery + \" % battery.\");\n",
    "    }\n",
    "\n",
    "    charge(amount) {\n",
    "        this.battery += amount;\n",
    "        console.log(\" Charged \" + amount + \" %. Total battery: \" + this.battery + \" %.\");\n",
    "    }\n",
    "}\n",
    "\n",
    "const myCar = new Car(\"Toyota\", \"Camry\", 15);\n",
    "myCar.drive(50);\n",
    "\n",
    "const myElectricCar1 = new ElectricCar(\"Nissan\", \"Leaf\", 40);\n",
    "myElectricCar1.charge(25);"
   ]
  }
 ],
 "metadata": {
  "kernelspec": {
   "display_name": "venv",
   "language": "python",
   "name": "python3"
  },
  "language_info": {
   "codemirror_mode": {
    "name": "ipython",
    "version": 3
   },
   "file_extension": ".py",
   "mimetype": "text/x-python",
   "name": "python",
   "nbconvert_exporter": "python",
   "pygments_lexer": "ipython3",
   "version": "3.13.7"
  }
 },
 "nbformat": 4,
 "nbformat_minor": 5
}
